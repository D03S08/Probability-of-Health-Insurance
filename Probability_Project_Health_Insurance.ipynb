{
  "nbformat": 4,
  "nbformat_minor": 0,
  "metadata": {
    "colab": {
      "provenance": [],
      "collapsed_sections": []
    },
    "kernelspec": {
      "name": "python3",
      "display_name": "Python 3"
    },
    "language_info": {
      "name": "python"
    }
  },
  "cells": [
    {
      "cell_type": "code",
      "execution_count": 2,
      "metadata": {
        "id": "xitXkTtPKx8Y",
        "colab": {
          "base_uri": "https://localhost:8080/"
        },
        "outputId": "e6ee7fa2-bfa9-43cd-fafe-c32ddbdb4f10"
      },
      "outputs": [
        {
          "output_type": "stream",
          "name": "stdout",
          "text": [
            "Mounted at /content/drive\n"
          ]
        }
      ],
      "source": [
        "# Hubungkan dengan google drive untuk mendapat data yang telah disimpan\n",
        "from google.colab import drive\n",
        "drive.mount('/content/drive')"
      ]
    },
    {
      "cell_type": "code",
      "source": [
        "# Mengimport library yang dibutuhkan\n",
        "import numpy as np\n",
        "import pandas as pd\n",
        "import matplotlib.pyplot as plt\n",
        "import seaborn as sns\n",
        "from scipy.stats import norm,expon,t,ttest_ind,norm\n",
        "from statsmodels.stats.proportion import proportions_ztest"
      ],
      "metadata": {
        "id": "E0yYhfpC2FS-"
      },
      "execution_count": 3,
      "outputs": []
    },
    {
      "cell_type": "code",
      "source": [
        "# Melihat informasi pada data\n",
        "data = pd.read_csv('/content/drive/MyDrive/Pacmann (Analytics & Data Science)/Data/insurance.csv')\n",
        "print(data.head(),'\\n')\n",
        "print(data.info())"
      ],
      "metadata": {
        "colab": {
          "base_uri": "https://localhost:8080/"
        },
        "id": "lG_0Zeol2rSh",
        "outputId": "a154310d-c7f6-4abc-9284-1f276c36adf8"
      },
      "execution_count": 4,
      "outputs": [
        {
          "output_type": "stream",
          "name": "stdout",
          "text": [
            "   age     sex     bmi  children smoker     region      charges\n",
            "0   19  female  27.900         0    yes  southwest  16884.92400\n",
            "1   18    male  33.770         1     no  southeast   1725.55230\n",
            "2   28    male  33.000         3     no  southeast   4449.46200\n",
            "3   33    male  22.705         0     no  northwest  21984.47061\n",
            "4   32    male  28.880         0     no  northwest   3866.85520 \n",
            "\n",
            "<class 'pandas.core.frame.DataFrame'>\n",
            "RangeIndex: 1338 entries, 0 to 1337\n",
            "Data columns (total 7 columns):\n",
            " #   Column    Non-Null Count  Dtype  \n",
            "---  ------    --------------  -----  \n",
            " 0   age       1338 non-null   int64  \n",
            " 1   sex       1338 non-null   object \n",
            " 2   bmi       1338 non-null   float64\n",
            " 3   children  1338 non-null   int64  \n",
            " 4   smoker    1338 non-null   object \n",
            " 5   region    1338 non-null   object \n",
            " 6   charges   1338 non-null   float64\n",
            "dtypes: float64(2), int64(2), object(3)\n",
            "memory usage: 73.3+ KB\n",
            "None\n"
          ]
        }
      ]
    },
    {
      "cell_type": "markdown",
      "source": [
        "# Analisa Descriptive Statistic"
      ],
      "metadata": {
        "id": "OcqpftTE4yKq"
      }
    },
    {
      "cell_type": "code",
      "source": [
        "# Melakukan Analisa Statistika Deskriptif\n",
        "data.describe()"
      ],
      "metadata": {
        "colab": {
          "base_uri": "https://localhost:8080/",
          "height": 300
        },
        "id": "dSsFCfjD3PVf",
        "outputId": "a8723697-5a08-4243-f4dc-f0ffc3541328"
      },
      "execution_count": 5,
      "outputs": [
        {
          "output_type": "execute_result",
          "data": {
            "text/plain": [
              "               age          bmi     children       charges\n",
              "count  1338.000000  1338.000000  1338.000000   1338.000000\n",
              "mean     39.207025    30.663397     1.094918  13270.422265\n",
              "std      14.049960     6.098187     1.205493  12110.011237\n",
              "min      18.000000    15.960000     0.000000   1121.873900\n",
              "25%      27.000000    26.296250     0.000000   4740.287150\n",
              "50%      39.000000    30.400000     1.000000   9382.033000\n",
              "75%      51.000000    34.693750     2.000000  16639.912515\n",
              "max      64.000000    53.130000     5.000000  63770.428010"
            ],
            "text/html": [
              "\n",
              "  <div id=\"df-63735193-ca46-43ab-8a9e-389b6ebc5749\">\n",
              "    <div class=\"colab-df-container\">\n",
              "      <div>\n",
              "<style scoped>\n",
              "    .dataframe tbody tr th:only-of-type {\n",
              "        vertical-align: middle;\n",
              "    }\n",
              "\n",
              "    .dataframe tbody tr th {\n",
              "        vertical-align: top;\n",
              "    }\n",
              "\n",
              "    .dataframe thead th {\n",
              "        text-align: right;\n",
              "    }\n",
              "</style>\n",
              "<table border=\"1\" class=\"dataframe\">\n",
              "  <thead>\n",
              "    <tr style=\"text-align: right;\">\n",
              "      <th></th>\n",
              "      <th>age</th>\n",
              "      <th>bmi</th>\n",
              "      <th>children</th>\n",
              "      <th>charges</th>\n",
              "    </tr>\n",
              "  </thead>\n",
              "  <tbody>\n",
              "    <tr>\n",
              "      <th>count</th>\n",
              "      <td>1338.000000</td>\n",
              "      <td>1338.000000</td>\n",
              "      <td>1338.000000</td>\n",
              "      <td>1338.000000</td>\n",
              "    </tr>\n",
              "    <tr>\n",
              "      <th>mean</th>\n",
              "      <td>39.207025</td>\n",
              "      <td>30.663397</td>\n",
              "      <td>1.094918</td>\n",
              "      <td>13270.422265</td>\n",
              "    </tr>\n",
              "    <tr>\n",
              "      <th>std</th>\n",
              "      <td>14.049960</td>\n",
              "      <td>6.098187</td>\n",
              "      <td>1.205493</td>\n",
              "      <td>12110.011237</td>\n",
              "    </tr>\n",
              "    <tr>\n",
              "      <th>min</th>\n",
              "      <td>18.000000</td>\n",
              "      <td>15.960000</td>\n",
              "      <td>0.000000</td>\n",
              "      <td>1121.873900</td>\n",
              "    </tr>\n",
              "    <tr>\n",
              "      <th>25%</th>\n",
              "      <td>27.000000</td>\n",
              "      <td>26.296250</td>\n",
              "      <td>0.000000</td>\n",
              "      <td>4740.287150</td>\n",
              "    </tr>\n",
              "    <tr>\n",
              "      <th>50%</th>\n",
              "      <td>39.000000</td>\n",
              "      <td>30.400000</td>\n",
              "      <td>1.000000</td>\n",
              "      <td>9382.033000</td>\n",
              "    </tr>\n",
              "    <tr>\n",
              "      <th>75%</th>\n",
              "      <td>51.000000</td>\n",
              "      <td>34.693750</td>\n",
              "      <td>2.000000</td>\n",
              "      <td>16639.912515</td>\n",
              "    </tr>\n",
              "    <tr>\n",
              "      <th>max</th>\n",
              "      <td>64.000000</td>\n",
              "      <td>53.130000</td>\n",
              "      <td>5.000000</td>\n",
              "      <td>63770.428010</td>\n",
              "    </tr>\n",
              "  </tbody>\n",
              "</table>\n",
              "</div>\n",
              "      <button class=\"colab-df-convert\" onclick=\"convertToInteractive('df-63735193-ca46-43ab-8a9e-389b6ebc5749')\"\n",
              "              title=\"Convert this dataframe to an interactive table.\"\n",
              "              style=\"display:none;\">\n",
              "        \n",
              "  <svg xmlns=\"http://www.w3.org/2000/svg\" height=\"24px\"viewBox=\"0 0 24 24\"\n",
              "       width=\"24px\">\n",
              "    <path d=\"M0 0h24v24H0V0z\" fill=\"none\"/>\n",
              "    <path d=\"M18.56 5.44l.94 2.06.94-2.06 2.06-.94-2.06-.94-.94-2.06-.94 2.06-2.06.94zm-11 1L8.5 8.5l.94-2.06 2.06-.94-2.06-.94L8.5 2.5l-.94 2.06-2.06.94zm10 10l.94 2.06.94-2.06 2.06-.94-2.06-.94-.94-2.06-.94 2.06-2.06.94z\"/><path d=\"M17.41 7.96l-1.37-1.37c-.4-.4-.92-.59-1.43-.59-.52 0-1.04.2-1.43.59L10.3 9.45l-7.72 7.72c-.78.78-.78 2.05 0 2.83L4 21.41c.39.39.9.59 1.41.59.51 0 1.02-.2 1.41-.59l7.78-7.78 2.81-2.81c.8-.78.8-2.07 0-2.86zM5.41 20L4 18.59l7.72-7.72 1.47 1.35L5.41 20z\"/>\n",
              "  </svg>\n",
              "      </button>\n",
              "      \n",
              "  <style>\n",
              "    .colab-df-container {\n",
              "      display:flex;\n",
              "      flex-wrap:wrap;\n",
              "      gap: 12px;\n",
              "    }\n",
              "\n",
              "    .colab-df-convert {\n",
              "      background-color: #E8F0FE;\n",
              "      border: none;\n",
              "      border-radius: 50%;\n",
              "      cursor: pointer;\n",
              "      display: none;\n",
              "      fill: #1967D2;\n",
              "      height: 32px;\n",
              "      padding: 0 0 0 0;\n",
              "      width: 32px;\n",
              "    }\n",
              "\n",
              "    .colab-df-convert:hover {\n",
              "      background-color: #E2EBFA;\n",
              "      box-shadow: 0px 1px 2px rgba(60, 64, 67, 0.3), 0px 1px 3px 1px rgba(60, 64, 67, 0.15);\n",
              "      fill: #174EA6;\n",
              "    }\n",
              "\n",
              "    [theme=dark] .colab-df-convert {\n",
              "      background-color: #3B4455;\n",
              "      fill: #D2E3FC;\n",
              "    }\n",
              "\n",
              "    [theme=dark] .colab-df-convert:hover {\n",
              "      background-color: #434B5C;\n",
              "      box-shadow: 0px 1px 3px 1px rgba(0, 0, 0, 0.15);\n",
              "      filter: drop-shadow(0px 1px 2px rgba(0, 0, 0, 0.3));\n",
              "      fill: #FFFFFF;\n",
              "    }\n",
              "  </style>\n",
              "\n",
              "      <script>\n",
              "        const buttonEl =\n",
              "          document.querySelector('#df-63735193-ca46-43ab-8a9e-389b6ebc5749 button.colab-df-convert');\n",
              "        buttonEl.style.display =\n",
              "          google.colab.kernel.accessAllowed ? 'block' : 'none';\n",
              "\n",
              "        async function convertToInteractive(key) {\n",
              "          const element = document.querySelector('#df-63735193-ca46-43ab-8a9e-389b6ebc5749');\n",
              "          const dataTable =\n",
              "            await google.colab.kernel.invokeFunction('convertToInteractive',\n",
              "                                                     [key], {});\n",
              "          if (!dataTable) return;\n",
              "\n",
              "          const docLinkHtml = 'Like what you see? Visit the ' +\n",
              "            '<a target=\"_blank\" href=https://colab.research.google.com/notebooks/data_table.ipynb>data table notebook</a>'\n",
              "            + ' to learn more about interactive tables.';\n",
              "          element.innerHTML = '';\n",
              "          dataTable['output_type'] = 'display_data';\n",
              "          await google.colab.output.renderOutput(dataTable, element);\n",
              "          const docLink = document.createElement('div');\n",
              "          docLink.innerHTML = docLinkHtml;\n",
              "          element.appendChild(docLink);\n",
              "        }\n",
              "      </script>\n",
              "    </div>\n",
              "  </div>\n",
              "  "
            ]
          },
          "metadata": {},
          "execution_count": 5
        }
      ]
    },
    {
      "cell_type": "code",
      "source": [
        "# Perbandingan rata-rata umur dan nilai BMI dari perokok dan data \n",
        "print('1. Rata-rata umur pengguna pada data adalah', round(data['age'].mean()))\n",
        "print('2. Rata-rata umur pengguna yang merokok adalah', round(data.age[data['smoker']=='yes'].mean()))\n",
        "print('3. Rata-rata nilai BMI pengguna pada data adalah %.2f' %(data['bmi'].mean()))\n",
        "print('4. Rata-rata nilai BMI pengguna yang merokok adalah %.2f'% data.bmi[data['smoker']=='yes'].mean())"
      ],
      "metadata": {
        "colab": {
          "base_uri": "https://localhost:8080/"
        },
        "id": "i2xxAl5Q3V7q",
        "outputId": "04432ba8-a6e2-48a9-d925-e40e9ed87a01"
      },
      "execution_count": 6,
      "outputs": [
        {
          "output_type": "stream",
          "name": "stdout",
          "text": [
            "1. Rata-rata umur pengguna pada data adalah 39\n",
            "2. Rata-rata umur pengguna yang merokok adalah 39\n",
            "3. Rata-rata nilai BMI pengguna pada data adalah 30.66\n",
            "4. Rata-rata nilai BMI pengguna yang merokok adalah 30.71\n"
          ]
        }
      ]
    },
    {
      "cell_type": "code",
      "source": [
        "# Melihat distribusi data dari perokok dan non perokok\n",
        "plt.subplot(211)\n",
        "plt.title('Smoker Distributions')\n",
        "plt.hist(data.charges[data['smoker']=='yes'])\n",
        "plt.subplot(212)\n",
        "plt.title('Non Smoker Distributions')\n",
        "plt.hist(data.charges[data['smoker']=='no'])\n",
        "plt.tight_layout()\n",
        "\n",
        "plt.show()"
      ],
      "metadata": {
        "colab": {
          "base_uri": "https://localhost:8080/",
          "height": 297
        },
        "id": "LGdBS8KE4Lwq",
        "outputId": "1d4773f6-5b50-455e-ee9c-d98bcd5abef6"
      },
      "execution_count": 7,
      "outputs": [
        {
          "output_type": "display_data",
          "data": {
            "text/plain": [
              "<Figure size 432x288 with 2 Axes>"
            ],
            "image/png": "[encoded data removed]"
          },
          "metadata": {
            "needs_background": "light"
          }
        }
      ]
    },
    {
      "cell_type": "code",
      "source": [
        "# Perbandingan varians perokok dan non perokok\n",
        "print('Varians charges dari perokok', np.square(data.charges[data['smoker']=='yes'].std()))\n",
        "print('Varians charges dari non perokok', np.square(data.charges[data['smoker']=='no'].std()))\n",
        "print(data.charges[data['smoker']=='yes'].std())\n",
        "print(data.charges[data['smoker']=='no'].std())"
      ],
      "metadata": {
        "colab": {
          "base_uri": "https://localhost:8080/"
        },
        "id": "y7Jd6iIE7kEQ",
        "outputId": "9b2e90a0-a0bc-407e-e36b-d06581a387e1"
      },
      "execution_count": 8,
      "outputs": [
        {
          "output_type": "stream",
          "name": "stdout",
          "text": [
            "Varians charges dari perokok 133207311.20634922\n",
            "Varians charges dari non perokok 35925420.496111736\n",
            "11541.547175589121\n",
            "5993.7818191949345\n"
          ]
        }
      ]
    },
    {
      "cell_type": "code",
      "source": [
        "# Perbandingan rata-rata umur perempuan dan laki-laki yang merokok\n",
        "smoker = data[data['smoker']=='yes']\n",
        "print('Rata-rata umur perokok perempuan', round(smoker.age[smoker['sex']=='female'].mean()))\n",
        "print('Rata-rata umur perokok laki-laki', round(smoker.age[smoker['sex']=='male'].mean()))"
      ],
      "metadata": {
        "colab": {
          "base_uri": "https://localhost:8080/"
        },
        "id": "gfvuCpHrB4xG",
        "outputId": "1c3f2c23-b89d-4225-a012-35632aa75508"
      },
      "execution_count": 9,
      "outputs": [
        {
          "output_type": "stream",
          "name": "stdout",
          "text": [
            "Rata-rata umur perokok perempuan 39\n",
            "Rata-rata umur perokok laki-laki 38\n"
          ]
        }
      ]
    },
    {
      "cell_type": "code",
      "source": [
        "# Perbedaan rata-rata tagihan kesehatan perokok dan non perokok\n",
        "print('Rata-rata tagihan kesehatan perokok', data.charges[data['smoker']=='yes'].mean())\n",
        "print('Rata-rata tagihan kesehatan non perokok', data.charges[data['smoker']=='no'].mean())"
      ],
      "metadata": {
        "colab": {
          "base_uri": "https://localhost:8080/"
        },
        "id": "xuqEXWh0D01R",
        "outputId": "d4b46e5c-6468-47ec-c604-e961c6d17710"
      },
      "execution_count": 10,
      "outputs": [
        {
          "output_type": "stream",
          "name": "stdout",
          "text": [
            "Rata-rata tagihan kesehatan perokok 32050.23183153284\n",
            "Rata-rata tagihan kesehatan non perokok 8434.268297856204\n"
          ]
        }
      ]
    },
    {
      "cell_type": "code",
      "source": [
        "# Perbandingan rata-rata tagihan kesehatan perokok dan non perokok dengan BMI diatas 25\n",
        "bmi25 = data[data['bmi']>25]\n",
        "print('Rata-rata tagihan kesehatan perokok dengan BMI diatas 25:', bmi25.charges[bmi25['smoker']=='yes'].mean())\n",
        "print('Rata-rata tagihan kesehatan non perokok dengan BMI diatas 25:', bmi25.charges[bmi25['smoker']=='no'].mean())"
      ],
      "metadata": {
        "colab": {
          "base_uri": "https://localhost:8080/"
        },
        "id": "Yqa2Czb2Elq2",
        "outputId": "e9517270-46f6-4a80-8a17-aa08f8455dd6"
      },
      "execution_count": 11,
      "outputs": [
        {
          "output_type": "stream",
          "name": "stdout",
          "text": [
            "Rata-rata tagihan kesehatan perokok dengan BMI diatas 25: 35116.90965694064\n",
            "Rata-rata tagihan kesehatan non perokok dengan BMI diatas 25: 8629.589609712157\n"
          ]
        }
      ]
    },
    {
      "cell_type": "code",
      "source": [
        "# Perbandingan BMI berdasarkan jenis kelamin\n",
        "print('Rata-rata BMI perempuan %.2f'% data.bmi[data['sex']=='female'].mean())\n",
        "print('Rata-rata BMI laki-laki %.2f'% data.bmi[data['sex']=='male'].mean())\n",
        "# Perbandingan BMI berdasarkan smoker dan non smoker\n",
        "print('\\nRata-rata BMI perokok %.2f'% data.bmi[data['smoker']=='yes'].mean())\n",
        "print('Rata-rata BMI non perokok %.2f'% data.bmi[data['smoker']=='no'].mean())"
      ],
      "metadata": {
        "colab": {
          "base_uri": "https://localhost:8080/"
        },
        "id": "yHv1MeZAFsEQ",
        "outputId": "1186887e-6f64-4326-fe2e-bfb65ec72287"
      },
      "execution_count": 12,
      "outputs": [
        {
          "output_type": "stream",
          "name": "stdout",
          "text": [
            "Rata-rata BMI perempuan 30.38\n",
            "Rata-rata BMI laki-laki 30.94\n",
            "\n",
            "Rata-rata BMI perokok 30.71\n",
            "Rata-rata BMI non perokok 30.65\n"
          ]
        }
      ]
    },
    {
      "cell_type": "markdown",
      "source": [
        "# Analisa Variabel Kategorik (PMF)"
      ],
      "metadata": {
        "id": "_24UhcX0HO2S"
      }
    },
    {
      "cell_type": "code",
      "source": [
        "# Perbandingan peluang besaran tagihan antara perempuan dan laki-laki\n",
        "total_charges = data.charges.sum()\n",
        "CP_perempuan = data.charges[data['sex']=='female'].sum()/total_charges\n",
        "CP_lakilaki = data.charges[data['sex']=='male'].sum()/total_charges\n",
        "print('Peluang tagihan perempuan adalah %.2f'%CP_perempuan)\n",
        "print('Peluang tagihan laki-laki adalah %.2f'%CP_lakilaki)"
      ],
      "metadata": {
        "colab": {
          "base_uri": "https://localhost:8080/"
        },
        "id": "fAqQ09c1G7WE",
        "outputId": "9ccb94b8-f038-498d-ceed-6e8eddfee768"
      },
      "execution_count": 49,
      "outputs": [
        {
          "output_type": "stream",
          "name": "stdout",
          "text": [
            "Peluang tagihan perempuan adalah 0.47\n",
            "Peluang tagihan laki-laki adalah 0.53\n"
          ]
        }
      ]
    },
    {
      "cell_type": "code",
      "source": [
        "# Melihat region yang ada pada data\n",
        "data.region.unique()"
      ],
      "metadata": {
        "colab": {
          "base_uri": "https://localhost:8080/"
        },
        "id": "Pf4BF6jlKL0-",
        "outputId": "522d22ba-1d80-46f1-c537-be4f0185d6f8"
      },
      "execution_count": 14,
      "outputs": [
        {
          "output_type": "execute_result",
          "data": {
            "text/plain": [
              "array(['southwest', 'southeast', 'northwest', 'northeast'], dtype=object)"
            ]
          },
          "metadata": {},
          "execution_count": 14
        }
      ]
    },
    {
      "cell_type": "code",
      "source": [
        "# Proporsi tagihan dari setiap region\n",
        "CP_southwest = data.charges[data['region']=='southwest'].sum()/total_charges\n",
        "CP_southeast = data.charges[data['region']=='southeast'].sum()/total_charges\n",
        "CP_northwest = data.charges[data['region']=='northwest'].sum()/total_charges\n",
        "CP_northeast = data.charges[data['region']=='northeast'].sum()/total_charges\n",
        "print(f'Proporsi tagihan region southwest adalah %.3f'%CP_southwest)\n",
        "print(f'Proporsi tagihan region southeast adalah %.3f'%CP_southeast)\n",
        "print(f'Proporsi tagihan region northwest adalah %.3f'%CP_northwest)\n",
        "print(f'Proporsi tagihan region northeast adalah %.3f'%CP_northeast)"
      ],
      "metadata": {
        "colab": {
          "base_uri": "https://localhost:8080/"
        },
        "id": "d1WcOkOnOI7S",
        "outputId": "c10c293e-880d-4507-bf9a-2128220e6312"
      },
      "execution_count": 68,
      "outputs": [
        {
          "output_type": "stream",
          "name": "stdout",
          "text": [
            "Proporsi tagihan region southwest adalah 0.226\n",
            "Proporsi tagihan region southeast adalah 0.302\n",
            "Proporsi tagihan region northwest adalah 0.227\n",
            "Proporsi tagihan region northeast adalah 0.245\n"
          ]
        }
      ]
    },
    {
      "cell_type": "code",
      "source": [
        "# Proporsi jumlah orang di tiap region\n",
        "count_region = data['region'].count()\n",
        "sns.countplot(x = data['region'])\n",
        "C_southwest = data.region[data['region']=='southwest'].count()/count_region \n",
        "C_southeast = data.region[data['region']=='southeast'].count()/count_region \n",
        "C_northwest = data.region[data['region']=='northwest'].count()/count_region \n",
        "C_northeast = data.region[data['region']=='northeast'].count()/count_region \n",
        "print('Proporsi jumlah orang di region southwest adalah %.3f' %C_southwest)\n",
        "print('Proporsi jumlah orang di region southeast adalah %.3f' %C_southeast)\n",
        "print('Proporsi jumlah orang di northwest adalah %.3f' %C_northwest)\n",
        "print('Proporsi jumlah orang di northeast adalah %.3f\\n' %C_northeast)"
      ],
      "metadata": {
        "colab": {
          "base_uri": "https://localhost:8080/",
          "height": 366
        },
        "id": "LWLbU49_QC_J",
        "outputId": "3653da71-c733-4377-c02d-811e2e2e542a"
      },
      "execution_count": 69,
      "outputs": [
        {
          "output_type": "stream",
          "name": "stdout",
          "text": [
            "Proporsi jumlah orang di region southwest adalah 0.243\n",
            "Proporsi jumlah orang di region southeast adalah 0.272\n",
            "Proporsi jumlah orang di northwest adalah 0.243\n",
            "Proporsi jumlah orang di northeast adalah 0.242\n",
            "\n"
          ]
        },
        {
          "output_type": "display_data",
          "data": {
            "text/plain": [
              "<Figure size 432x288 with 1 Axes>"
            ],
            "image/png": "[encoded data removed]"
          },
          "metadata": {
            "needs_background": "light"
          }
        }
      ]
    },
    {
      "cell_type": "code",
      "source": [
        "# Proporsi perokok dan bukan perokok\n",
        "sum_perokok = data['smoker'].count()\n",
        "sns.countplot(x = data['smoker'])\n",
        "smoker = data.smoker[data['smoker']=='yes'].count()/sum_perokok \n",
        "non_smoker = data.smoker[data['smoker']=='no'].count()/sum_perokok \n",
        "print(f'Proporsi jumlah perokok adalah %.2f'%smoker)\n",
        "print(f'Proporsi jumlah bukan perokok adalah %.2f\\n'%non_smoker)"
      ],
      "metadata": {
        "colab": {
          "base_uri": "https://localhost:8080/",
          "height": 331
        },
        "id": "eKi6Isv2dnV4",
        "outputId": "0d10216e-7680-48f7-e7e7-79278b386796"
      },
      "execution_count": 62,
      "outputs": [
        {
          "output_type": "stream",
          "name": "stdout",
          "text": [
            "Proporsi jumlah perokok adalah 0.20\n",
            "Proporsi jumlah bukan perokok adalah 0.80\n",
            "\n"
          ]
        },
        {
          "output_type": "display_data",
          "data": {
            "text/plain": [
              "<Figure size 432x288 with 1 Axes>"
            ],
            "image/png": "[encoded data removed]"
          },
          "metadata": {
            "needs_background": "light"
          }
        }
      ]
    },
    {
      "cell_type": "code",
      "source": [
        "# Peluang Perokok Perempuan \n",
        "data_pr = data[data['sex']=='female']\n",
        "count_pr = data_pr['smoker'].count()\n",
        "smoker_pr = data_pr.smoker[data_pr['smoker']=='yes'].count()/count_pr\n",
        "\n",
        "# Peluang Perokok Laki-Laki\n",
        "data_lk = data[data['sex']=='male']\n",
        "count_lk = data_lk['smoker'].count()\n",
        "smoker_lk = data_lk.smoker[data_lk['smoker']=='yes'].count()/count_lk\n",
        "\n",
        "print(f'Peluang perokok perempuan adalah %.2f'%smoker_pr)\n",
        "print(f'Peluang perokok laki-laki adalah %.2f\\n'%smoker_lk)"
      ],
      "metadata": {
        "colab": {
          "base_uri": "https://localhost:8080/"
        },
        "id": "fIMdlLrag1xp",
        "outputId": "56e1f1b5-62bb-4c16-d5cd-bbafdd12429b"
      },
      "execution_count": 65,
      "outputs": [
        {
          "output_type": "stream",
          "name": "stdout",
          "text": [
            "Peluang perokok perempuan adalah 0.17\n",
            "Peluang perokok laki-laki adalah 0.24\n",
            "\n"
          ]
        }
      ]
    },
    {
      "cell_type": "code",
      "source": [
        "# Melihat distribusi data tagihan dari tiap region\n",
        "plt.figure(figsize=(8,10))\n",
        "plt.subplot(411)\n",
        "plt.title('Distribusi Southwest Region')\n",
        "plt.hist(data.charges[data['region']=='southwest'])\n",
        "plt.subplot(412)\n",
        "plt.title('Distribusi Southeast Region')\n",
        "plt.hist(data.charges[data['region']=='southeast'])\n",
        "plt.subplot(413)\n",
        "plt.title('Distribusi northwest Region')\n",
        "plt.hist(data.charges[data['region']=='northwest'])\n",
        "plt.subplot(414)\n",
        "plt.title('Distribusi Northeast Region')\n",
        "plt.hist(data.charges[data['region']=='northeast'])\n",
        "plt.tight_layout()"
      ],
      "metadata": {
        "colab": {
          "base_uri": "https://localhost:8080/",
          "height": 729
        },
        "id": "vFe6HiQtjVxR",
        "outputId": "095f0d89-48a9-4e02-c864-4c6baf15cbfc"
      },
      "execution_count": 67,
      "outputs": [
        {
          "output_type": "display_data",
          "data": {
            "text/plain": [
              "<Figure size 576x720 with 4 Axes>"
            ],
            "image/png": "[encoded data removed]"
          },
          "metadata": {
            "needs_background": "light"
          }
        }
      ]
    },
    {
      "cell_type": "markdown",
      "source": [
        "# Analisa Variabel Kontinu"
      ],
      "metadata": {
        "id": "BlfaJsoRlJxm"
      }
    },
    {
      "cell_type": "code",
      "source": [
        "# Mencari peluang besar tagihan berdasarkan BMI\n",
        "condition = (data['bmi']>=data['bmi'].min()) & (data['bmi']<=data['bmi'].max())\n",
        "charges_given_bmi = data[condition]['charges']\n",
        "\n",
        "for i in range(1,16700,1000):\n",
        "  x = i\n",
        "  mean = charges_given_bmi.mean()\n",
        "  std = charges_given_bmi.std()\n",
        "  P = 1 - norm.cdf(x, mean, std)\n",
        "  print(f'Peluang x>{x}: {P}')"
      ],
      "metadata": {
        "colab": {
          "base_uri": "https://localhost:8080/"
        },
        "id": "oZ11sq9eSYF_",
        "outputId": "5a76b13b-d4f3-46c1-ddb0-7232cde5b1f4"
      },
      "execution_count": 20,
      "outputs": [
        {
          "output_type": "stream",
          "name": "stdout",
          "text": [
            "Peluang x>1: 0.8634036876149656\n",
            "Peluang x>1001: 0.8445089818935315\n",
            "Peluang x>2001: 0.8239664483466611\n",
            "Peluang x>3001: 0.8017840667579076\n",
            "Peluang x>4001: 0.7779936180375865\n",
            "Peluang x>5001: 0.7526518220841484\n",
            "Peluang x>6001: 0.7258408573920315\n",
            "Peluang x>7001: 0.6976682017746053\n",
            "Peluang x>8001: 0.6682657580725906\n",
            "Peluang x>9001: 0.63778825648375\n",
            "Peluang x>10001: 0.6064109548249096\n",
            "Peluang x>11001: 0.574326688076487\n",
            "Peluang x>12001: 0.5417423473214487\n",
            "Peluang x>13001: 0.5088748940473684\n",
            "Peluang x>14001: 0.4759470372300234\n",
            "Peluang x>15001: 0.44318271638973095\n",
            "Peluang x>16001: 0.4108025429610572\n"
          ]
        }
      ]
    },
    {
      "cell_type": "code",
      "source": [
        "# Mengetahui peluang seorang perokok dengan BMI diatas 25 akan mendapatkan tagihan kesehatan di atas 16.700.\n",
        "condition = (data['bmi']>25) & (data['smoker']=='yes')\n",
        "charges_given_bmi = data[condition]['charges']\n",
        "sns.displot(charges_given_bmi,kde=True);\n",
        "\n",
        "x = 16700\n",
        "mean = charges_given_bmi.mean()\n",
        "std = charges_given_bmi.std()\n",
        "P = 1 - norm.cdf(x, mean, std)\n",
        "print('Peluang:',P)"
      ],
      "metadata": {
        "colab": {
          "base_uri": "https://localhost:8080/",
          "height": 386
        },
        "id": "y1R8DGr2tSh7",
        "outputId": "a339982b-cd52-47f3-819d-08aa8335111b"
      },
      "execution_count": 21,
      "outputs": [
        {
          "output_type": "stream",
          "name": "stdout",
          "text": [
            "Peluang: 0.9573559499024568\n"
          ]
        },
        {
          "output_type": "display_data",
          "data": {
            "text/plain": [
              "<Figure size 360x360 with 1 Axes>"
            ],
            "image/png": "[encoded data removed]"
          },
          "metadata": {
            "needs_background": "light"
          }
        }
      ]
    },
    {
      "cell_type": "code",
      "source": [
        "# Mengetahui peluang seseorang acak tagihan kesehatannya diatas 16.7k diketahui dia adalah perokok\n",
        "condition = (data['smoker']=='yes')\n",
        "charges_given_bmi = data[condition]['charges']\n",
        "sns.displot(charges_given_bmi,kde=True);\n",
        "\n",
        "x = 16700\n",
        "mean = charges_given_bmi.mean()\n",
        "std = charges_given_bmi.std()\n",
        "P = 1 - norm.cdf(x, mean, std)\n",
        "print('Peluang:',P)"
      ],
      "metadata": {
        "colab": {
          "base_uri": "https://localhost:8080/",
          "height": 386
        },
        "id": "gkMPTV2ryEUJ",
        "outputId": "4bb24356-2f91-4703-b938-317243f9cd2a"
      },
      "execution_count": 22,
      "outputs": [
        {
          "output_type": "stream",
          "name": "stdout",
          "text": [
            "Peluang: 0.9082404944909882\n"
          ]
        },
        {
          "output_type": "display_data",
          "data": {
            "text/plain": [
              "<Figure size 360x360 with 1 Axes>"
            ],
            "image/png": "[encoded data removed]"
          },
          "metadata": {
            "needs_background": "light"
          }
        }
      ]
    },
    {
      "cell_type": "code",
      "source": [
        "# Mengetahui perbandingan peluang seseorang dengan BMI diatas dan dibawah 25 mendapatkan tagihan kesehatan diatas 16.7k\n",
        "condition1 = (data['bmi']>25)\n",
        "charges_given_bmi1 = data[condition1]['charges']\n",
        "\n",
        "condition2 = (data['bmi']<25)\n",
        "charges_given_bmi2 = data[condition2]['charges']\n",
        "\n",
        "x = 16700\n",
        "mean1 = charges_given_bmi1.mean()\n",
        "std1 = charges_given_bmi1.std()\n",
        "mean2 = charges_given_bmi2.mean()\n",
        "std2 = charges_given_bmi2.std()\n",
        "P1 = 1 - norm.cdf(x, mean1, std1)\n",
        "P2 = 1 - norm.cdf(x, mean2, std2)\n",
        "print('Peluang seseorang memiliki BMI diatas 25 mendapat tagihan kesehatan diatas 16.7k:',P1)\n",
        "print('Peluang seseorang memiliki BMI dibawah 25 mendapat tagihan kesehatan diatas 16.7k:',P2)"
      ],
      "metadata": {
        "colab": {
          "base_uri": "https://localhost:8080/"
        },
        "id": "tqhikiKU8E_L",
        "outputId": "6397130c-3750-41aa-ccd6-1bd811009692"
      },
      "execution_count": 23,
      "outputs": [
        {
          "output_type": "stream",
          "name": "stdout",
          "text": [
            "Peluang seseorang memiliki BMI diatas 25 mendapat tagihan kesehatan diatas 16.7k: 0.41506414463777574\n",
            "Peluang seseorang memiliki BMI dibawah 25 mendapat tagihan kesehatan diatas 16.7k: 0.19672639383141954\n"
          ]
        }
      ]
    },
    {
      "cell_type": "code",
      "source": [
        "# Mengetahui perbandingan seseorang perokok dan non perokok dengan BMI diatas 25 mendapatkan tagihan kesehatan diatas 16.7k,\n",
        "condition1 = (data['bmi']>25) & (data['smoker']=='yes')\n",
        "charges_given_bmi1 = data[condition1]['charges']\n",
        "\n",
        "condition2 = (data['bmi']>25) & (data['smoker']=='no')\n",
        "charges_given_bmi2 = data[condition2]['charges']\n",
        "\n",
        "x = 16700\n",
        "mean1 = charges_given_bmi1.mean()\n",
        "std1 = charges_given_bmi1.std()\n",
        "mean2 = charges_given_bmi2.mean()\n",
        "std2 = charges_given_bmi2.std()\n",
        "P1 = 1 - norm.cdf(x, mean1, std1)\n",
        "P2 = 1 - norm.cdf(x, mean2, std2)\n",
        "print('Peluang seseorang perokok memiliki BMI diatas 25 mendapat tagihan kesehatan diatas 16.7k:',P1)\n",
        "print('Peluang seseorang non perokok memiliki BMI diatas 25 mendapat tagihan kesehatan diatas 16.7k:',P2)"
      ],
      "metadata": {
        "colab": {
          "base_uri": "https://localhost:8080/"
        },
        "id": "YtdtEhQ_9UPW",
        "outputId": "ef8cb1d2-a746-416d-b007-e71c299d49fa"
      },
      "execution_count": 24,
      "outputs": [
        {
          "output_type": "stream",
          "name": "stdout",
          "text": [
            "Peluang seseorang perokok memiliki BMI diatas 25 mendapat tagihan kesehatan diatas 16.7k: 0.9573559499024568\n",
            "Peluang seseorang non perokok memiliki BMI diatas 25 mendapat tagihan kesehatan diatas 16.7k: 0.09076840690505383\n"
          ]
        }
      ]
    },
    {
      "cell_type": "markdown",
      "source": [
        "# Analisa Korelasi Variabel"
      ],
      "metadata": {
        "id": "k8wErGoL3FjZ"
      }
    },
    {
      "cell_type": "code",
      "source": [
        "# Mengecek variance pada data\n",
        "sns.boxplot(data= data[['age','bmi','children','charges']])"
      ],
      "metadata": {
        "colab": {
          "base_uri": "https://localhost:8080/",
          "height": 282
        },
        "id": "bn3iv9D54Wj4",
        "outputId": "7f2cedeb-0f54-4358-c9c5-2e81dc4473b4"
      },
      "execution_count": 25,
      "outputs": [
        {
          "output_type": "execute_result",
          "data": {
            "text/plain": [
              "<matplotlib.axes._subplots.AxesSubplot at 0x7f0790dd2ad0>"
            ]
          },
          "metadata": {},
          "execution_count": 25
        },
        {
          "output_type": "display_data",
          "data": {
            "text/plain": [
              "<Figure size 432x288 with 1 Axes>"
            ],
            "image/png": "[encoded data removed]"
          },
          "metadata": {
            "needs_background": "light"
          }
        }
      ]
    },
    {
      "cell_type": "code",
      "source": [
        "# Korelasi secara keseluruhan\n",
        "sns.heatmap(data.corr(),annot=True);"
      ],
      "metadata": {
        "colab": {
          "base_uri": "https://localhost:8080/",
          "height": 269
        },
        "id": "MF4MWw2s_7CW",
        "outputId": "30f2cfe6-3020-4237-f5b2-5336bbde5920"
      },
      "execution_count": 26,
      "outputs": [
        {
          "output_type": "display_data",
          "data": {
            "text/plain": [
              "<Figure size 432x288 with 2 Axes>"
            ],
            "image/png": "[encoded data removed]"
          },
          "metadata": {
            "needs_background": "light"
          }
        }
      ]
    },
    {
      "cell_type": "code",
      "source": [
        "# Korelasi umur dan tagihan\n",
        "sns.regplot(x='age',y='charges',data=data);\n",
        "data[['age','charges']].corr()"
      ],
      "metadata": {
        "colab": {
          "base_uri": "https://localhost:8080/",
          "height": 374
        },
        "id": "rTG7ouUwE_xa",
        "outputId": "6643c3f5-0dab-4016-bbcd-e6b9a6a4cc74"
      },
      "execution_count": 70,
      "outputs": [
        {
          "output_type": "execute_result",
          "data": {
            "text/plain": [
              "              age   charges\n",
              "age      1.000000  0.299008\n",
              "charges  0.299008  1.000000"
            ],
            "text/html": [
              "\n",
              "  <div id=\"df-2453afc3-031e-4d74-8a04-2112e41e404a\">\n",
              "    <div class=\"colab-df-container\">\n",
              "      <div>\n",
              "<style scoped>\n",
              "    .dataframe tbody tr th:only-of-type {\n",
              "        vertical-align: middle;\n",
              "    }\n",
              "\n",
              "    .dataframe tbody tr th {\n",
              "        vertical-align: top;\n",
              "    }\n",
              "\n",
              "    .dataframe thead th {\n",
              "        text-align: right;\n",
              "    }\n",
              "</style>\n",
              "<table border=\"1\" class=\"dataframe\">\n",
              "  <thead>\n",
              "    <tr style=\"text-align: right;\">\n",
              "      <th></th>\n",
              "      <th>age</th>\n",
              "      <th>charges</th>\n",
              "    </tr>\n",
              "  </thead>\n",
              "  <tbody>\n",
              "    <tr>\n",
              "      <th>age</th>\n",
              "      <td>1.000000</td>\n",
              "      <td>0.299008</td>\n",
              "    </tr>\n",
              "    <tr>\n",
              "      <th>charges</th>\n",
              "      <td>0.299008</td>\n",
              "      <td>1.000000</td>\n",
              "    </tr>\n",
              "  </tbody>\n",
              "</table>\n",
              "</div>\n",
              "      <button class=\"colab-df-convert\" onclick=\"convertToInteractive('df-2453afc3-031e-4d74-8a04-2112e41e404a')\"\n",
              "              title=\"Convert this dataframe to an interactive table.\"\n",
              "              style=\"display:none;\">\n",
              "        \n",
              "  <svg xmlns=\"http://www.w3.org/2000/svg\" height=\"24px\"viewBox=\"0 0 24 24\"\n",
              "       width=\"24px\">\n",
              "    <path d=\"M0 0h24v24H0V0z\" fill=\"none\"/>\n",
              "    <path d=\"M18.56 5.44l.94 2.06.94-2.06 2.06-.94-2.06-.94-.94-2.06-.94 2.06-2.06.94zm-11 1L8.5 8.5l.94-2.06 2.06-.94-2.06-.94L8.5 2.5l-.94 2.06-2.06.94zm10 10l.94 2.06.94-2.06 2.06-.94-2.06-.94-.94-2.06-.94 2.06-2.06.94z\"/><path d=\"M17.41 7.96l-1.37-1.37c-.4-.4-.92-.59-1.43-.59-.52 0-1.04.2-1.43.59L10.3 9.45l-7.72 7.72c-.78.78-.78 2.05 0 2.83L4 21.41c.39.39.9.59 1.41.59.51 0 1.02-.2 1.41-.59l7.78-7.78 2.81-2.81c.8-.78.8-2.07 0-2.86zM5.41 20L4 18.59l7.72-7.72 1.47 1.35L5.41 20z\"/>\n",
              "  </svg>\n",
              "      </button>\n",
              "      \n",
              "  <style>\n",
              "    .colab-df-container {\n",
              "      display:flex;\n",
              "      flex-wrap:wrap;\n",
              "      gap: 12px;\n",
              "    }\n",
              "\n",
              "    .colab-df-convert {\n",
              "      background-color: #E8F0FE;\n",
              "      border: none;\n",
              "      border-radius: 50%;\n",
              "      cursor: pointer;\n",
              "      display: none;\n",
              "      fill: #1967D2;\n",
              "      height: 32px;\n",
              "      padding: 0 0 0 0;\n",
              "      width: 32px;\n",
              "    }\n",
              "\n",
              "    .colab-df-convert:hover {\n",
              "      background-color: #E2EBFA;\n",
              "      box-shadow: 0px 1px 2px rgba(60, 64, 67, 0.3), 0px 1px 3px 1px rgba(60, 64, 67, 0.15);\n",
              "      fill: #174EA6;\n",
              "    }\n",
              "\n",
              "    [theme=dark] .colab-df-convert {\n",
              "      background-color: #3B4455;\n",
              "      fill: #D2E3FC;\n",
              "    }\n",
              "\n",
              "    [theme=dark] .colab-df-convert:hover {\n",
              "      background-color: #434B5C;\n",
              "      box-shadow: 0px 1px 3px 1px rgba(0, 0, 0, 0.15);\n",
              "      filter: drop-shadow(0px 1px 2px rgba(0, 0, 0, 0.3));\n",
              "      fill: #FFFFFF;\n",
              "    }\n",
              "  </style>\n",
              "\n",
              "      <script>\n",
              "        const buttonEl =\n",
              "          document.querySelector('#df-2453afc3-031e-4d74-8a04-2112e41e404a button.colab-df-convert');\n",
              "        buttonEl.style.display =\n",
              "          google.colab.kernel.accessAllowed ? 'block' : 'none';\n",
              "\n",
              "        async function convertToInteractive(key) {\n",
              "          const element = document.querySelector('#df-2453afc3-031e-4d74-8a04-2112e41e404a');\n",
              "          const dataTable =\n",
              "            await google.colab.kernel.invokeFunction('convertToInteractive',\n",
              "                                                     [key], {});\n",
              "          if (!dataTable) return;\n",
              "\n",
              "          const docLinkHtml = 'Like what you see? Visit the ' +\n",
              "            '<a target=\"_blank\" href=https://colab.research.google.com/notebooks/data_table.ipynb>data table notebook</a>'\n",
              "            + ' to learn more about interactive tables.';\n",
              "          element.innerHTML = '';\n",
              "          dataTable['output_type'] = 'display_data';\n",
              "          await google.colab.output.renderOutput(dataTable, element);\n",
              "          const docLink = document.createElement('div');\n",
              "          docLink.innerHTML = docLinkHtml;\n",
              "          element.appendChild(docLink);\n",
              "        }\n",
              "      </script>\n",
              "    </div>\n",
              "  </div>\n",
              "  "
            ]
          },
          "metadata": {},
          "execution_count": 70
        },
        {
          "output_type": "display_data",
          "data": {
            "text/plain": [
              "<Figure size 432x288 with 1 Axes>"
            ],
            "image/png": "[encoded data removed]"
          },
          "metadata": {
            "needs_background": "light"
          }
        }
      ]
    },
    {
      "cell_type": "markdown",
      "source": [
        "*   Dari visualisasi diatas maka dapat kita simpulkan bahwa nilai korelasi 0.29 menunjukan adanya korelasi positif antara Umur dan Tagihan \n",
        "*   Korelasi positif yang dimiliki berdekatan dengan nilai 0 menunjukan hubungan searah antara Umur dan Tagihan dinilai lemah"
      ],
      "metadata": {
        "id": "noeweHIQ8QO1"
      }
    },
    {
      "cell_type": "code",
      "source": [
        "# Korelasi bmi dan tagihan\n",
        "sns.regplot(x='bmi',y='charges',data=data);\n",
        "data[['bmi','charges']].corr()"
      ],
      "metadata": {
        "colab": {
          "base_uri": "https://localhost:8080/",
          "height": 374
        },
        "id": "kjs258yF3dDo",
        "outputId": "67afe5b1-96f9-4089-8f9a-b0cb2a0d72ab"
      },
      "execution_count": 71,
      "outputs": [
        {
          "output_type": "execute_result",
          "data": {
            "text/plain": [
              "              bmi   charges\n",
              "bmi      1.000000  0.198341\n",
              "charges  0.198341  1.000000"
            ],
            "text/html": [
              "\n",
              "  <div id=\"df-8323c074-e682-428d-9303-6f2c97d42c26\">\n",
              "    <div class=\"colab-df-container\">\n",
              "      <div>\n",
              "<style scoped>\n",
              "    .dataframe tbody tr th:only-of-type {\n",
              "        vertical-align: middle;\n",
              "    }\n",
              "\n",
              "    .dataframe tbody tr th {\n",
              "        vertical-align: top;\n",
              "    }\n",
              "\n",
              "    .dataframe thead th {\n",
              "        text-align: right;\n",
              "    }\n",
              "</style>\n",
              "<table border=\"1\" class=\"dataframe\">\n",
              "  <thead>\n",
              "    <tr style=\"text-align: right;\">\n",
              "      <th></th>\n",
              "      <th>bmi</th>\n",
              "      <th>charges</th>\n",
              "    </tr>\n",
              "  </thead>\n",
              "  <tbody>\n",
              "    <tr>\n",
              "      <th>bmi</th>\n",
              "      <td>1.000000</td>\n",
              "      <td>0.198341</td>\n",
              "    </tr>\n",
              "    <tr>\n",
              "      <th>charges</th>\n",
              "      <td>0.198341</td>\n",
              "      <td>1.000000</td>\n",
              "    </tr>\n",
              "  </tbody>\n",
              "</table>\n",
              "</div>\n",
              "      <button class=\"colab-df-convert\" onclick=\"convertToInteractive('df-8323c074-e682-428d-9303-6f2c97d42c26')\"\n",
              "              title=\"Convert this dataframe to an interactive table.\"\n",
              "              style=\"display:none;\">\n",
              "        \n",
              "  <svg xmlns=\"http://www.w3.org/2000/svg\" height=\"24px\"viewBox=\"0 0 24 24\"\n",
              "       width=\"24px\">\n",
              "    <path d=\"M0 0h24v24H0V0z\" fill=\"none\"/>\n",
              "    <path d=\"M18.56 5.44l.94 2.06.94-2.06 2.06-.94-2.06-.94-.94-2.06-.94 2.06-2.06.94zm-11 1L8.5 8.5l.94-2.06 2.06-.94-2.06-.94L8.5 2.5l-.94 2.06-2.06.94zm10 10l.94 2.06.94-2.06 2.06-.94-2.06-.94-.94-2.06-.94 2.06-2.06.94z\"/><path d=\"M17.41 7.96l-1.37-1.37c-.4-.4-.92-.59-1.43-.59-.52 0-1.04.2-1.43.59L10.3 9.45l-7.72 7.72c-.78.78-.78 2.05 0 2.83L4 21.41c.39.39.9.59 1.41.59.51 0 1.02-.2 1.41-.59l7.78-7.78 2.81-2.81c.8-.78.8-2.07 0-2.86zM5.41 20L4 18.59l7.72-7.72 1.47 1.35L5.41 20z\"/>\n",
              "  </svg>\n",
              "      </button>\n",
              "      \n",
              "  <style>\n",
              "    .colab-df-container {\n",
              "      display:flex;\n",
              "      flex-wrap:wrap;\n",
              "      gap: 12px;\n",
              "    }\n",
              "\n",
              "    .colab-df-convert {\n",
              "      background-color: #E8F0FE;\n",
              "      border: none;\n",
              "      border-radius: 50%;\n",
              "      cursor: pointer;\n",
              "      display: none;\n",
              "      fill: #1967D2;\n",
              "      height: 32px;\n",
              "      padding: 0 0 0 0;\n",
              "      width: 32px;\n",
              "    }\n",
              "\n",
              "    .colab-df-convert:hover {\n",
              "      background-color: #E2EBFA;\n",
              "      box-shadow: 0px 1px 2px rgba(60, 64, 67, 0.3), 0px 1px 3px 1px rgba(60, 64, 67, 0.15);\n",
              "      fill: #174EA6;\n",
              "    }\n",
              "\n",
              "    [theme=dark] .colab-df-convert {\n",
              "      background-color: #3B4455;\n",
              "      fill: #D2E3FC;\n",
              "    }\n",
              "\n",
              "    [theme=dark] .colab-df-convert:hover {\n",
              "      background-color: #434B5C;\n",
              "      box-shadow: 0px 1px 3px 1px rgba(0, 0, 0, 0.15);\n",
              "      filter: drop-shadow(0px 1px 2px rgba(0, 0, 0, 0.3));\n",
              "      fill: #FFFFFF;\n",
              "    }\n",
              "  </style>\n",
              "\n",
              "      <script>\n",
              "        const buttonEl =\n",
              "          document.querySelector('#df-8323c074-e682-428d-9303-6f2c97d42c26 button.colab-df-convert');\n",
              "        buttonEl.style.display =\n",
              "          google.colab.kernel.accessAllowed ? 'block' : 'none';\n",
              "\n",
              "        async function convertToInteractive(key) {\n",
              "          const element = document.querySelector('#df-8323c074-e682-428d-9303-6f2c97d42c26');\n",
              "          const dataTable =\n",
              "            await google.colab.kernel.invokeFunction('convertToInteractive',\n",
              "                                                     [key], {});\n",
              "          if (!dataTable) return;\n",
              "\n",
              "          const docLinkHtml = 'Like what you see? Visit the ' +\n",
              "            '<a target=\"_blank\" href=https://colab.research.google.com/notebooks/data_table.ipynb>data table notebook</a>'\n",
              "            + ' to learn more about interactive tables.';\n",
              "          element.innerHTML = '';\n",
              "          dataTable['output_type'] = 'display_data';\n",
              "          await google.colab.output.renderOutput(dataTable, element);\n",
              "          const docLink = document.createElement('div');\n",
              "          docLink.innerHTML = docLinkHtml;\n",
              "          element.appendChild(docLink);\n",
              "        }\n",
              "      </script>\n",
              "    </div>\n",
              "  </div>\n",
              "  "
            ]
          },
          "metadata": {},
          "execution_count": 71
        },
        {
          "output_type": "display_data",
          "data": {
            "text/plain": [
              "<Figure size 432x288 with 1 Axes>"
            ],
            "image/png": "[encoded data removed]"
          },
          "metadata": {
            "needs_background": "light"
          }
        }
      ]
    },
    {
      "cell_type": "markdown",
      "source": [
        "*   Dari visualisasi diatas maka dapat kita simpulkan bahwa nilai korelasi 0.19 menunjukan adanya korelasi positif antara BMI dan Tagihan \n",
        "*   Korelasi positif yang berdekatan dengan nilai 0 menunjukan hubungan searah antara BMI dan Tagihan dinilai Sangat lemah bahkan hampir tidak berkorelasi"
      ],
      "metadata": {
        "id": "NZ803gUi90SM"
      }
    },
    {
      "cell_type": "code",
      "source": [
        "# Korelasi banyak anak dan tagihan\n",
        "sns.regplot(x='children',y='charges',data=data);\n",
        "data[['children','charges']].corr()"
      ],
      "metadata": {
        "colab": {
          "base_uri": "https://localhost:8080/",
          "height": 374
        },
        "id": "iVclur7M324_",
        "outputId": "c3283310-9e70-4fca-b641-1d8535918fcb"
      },
      "execution_count": 72,
      "outputs": [
        {
          "output_type": "execute_result",
          "data": {
            "text/plain": [
              "          children   charges\n",
              "children  1.000000  0.067998\n",
              "charges   0.067998  1.000000"
            ],
            "text/html": [
              "\n",
              "  <div id=\"df-06946083-7d45-4cda-a69c-22fc4c8c42e3\">\n",
              "    <div class=\"colab-df-container\">\n",
              "      <div>\n",
              "<style scoped>\n",
              "    .dataframe tbody tr th:only-of-type {\n",
              "        vertical-align: middle;\n",
              "    }\n",
              "\n",
              "    .dataframe tbody tr th {\n",
              "        vertical-align: top;\n",
              "    }\n",
              "\n",
              "    .dataframe thead th {\n",
              "        text-align: right;\n",
              "    }\n",
              "</style>\n",
              "<table border=\"1\" class=\"dataframe\">\n",
              "  <thead>\n",
              "    <tr style=\"text-align: right;\">\n",
              "      <th></th>\n",
              "      <th>children</th>\n",
              "      <th>charges</th>\n",
              "    </tr>\n",
              "  </thead>\n",
              "  <tbody>\n",
              "    <tr>\n",
              "      <th>children</th>\n",
              "      <td>1.000000</td>\n",
              "      <td>0.067998</td>\n",
              "    </tr>\n",
              "    <tr>\n",
              "      <th>charges</th>\n",
              "      <td>0.067998</td>\n",
              "      <td>1.000000</td>\n",
              "    </tr>\n",
              "  </tbody>\n",
              "</table>\n",
              "</div>\n",
              "      <button class=\"colab-df-convert\" onclick=\"convertToInteractive('df-06946083-7d45-4cda-a69c-22fc4c8c42e3')\"\n",
              "              title=\"Convert this dataframe to an interactive table.\"\n",
              "              style=\"display:none;\">\n",
              "        \n",
              "  <svg xmlns=\"http://www.w3.org/2000/svg\" height=\"24px\"viewBox=\"0 0 24 24\"\n",
              "       width=\"24px\">\n",
              "    <path d=\"M0 0h24v24H0V0z\" fill=\"none\"/>\n",
              "    <path d=\"M18.56 5.44l.94 2.06.94-2.06 2.06-.94-2.06-.94-.94-2.06-.94 2.06-2.06.94zm-11 1L8.5 8.5l.94-2.06 2.06-.94-2.06-.94L8.5 2.5l-.94 2.06-2.06.94zm10 10l.94 2.06.94-2.06 2.06-.94-2.06-.94-.94-2.06-.94 2.06-2.06.94z\"/><path d=\"M17.41 7.96l-1.37-1.37c-.4-.4-.92-.59-1.43-.59-.52 0-1.04.2-1.43.59L10.3 9.45l-7.72 7.72c-.78.78-.78 2.05 0 2.83L4 21.41c.39.39.9.59 1.41.59.51 0 1.02-.2 1.41-.59l7.78-7.78 2.81-2.81c.8-.78.8-2.07 0-2.86zM5.41 20L4 18.59l7.72-7.72 1.47 1.35L5.41 20z\"/>\n",
              "  </svg>\n",
              "      </button>\n",
              "      \n",
              "  <style>\n",
              "    .colab-df-container {\n",
              "      display:flex;\n",
              "      flex-wrap:wrap;\n",
              "      gap: 12px;\n",
              "    }\n",
              "\n",
              "    .colab-df-convert {\n",
              "      background-color: #E8F0FE;\n",
              "      border: none;\n",
              "      border-radius: 50%;\n",
              "      cursor: pointer;\n",
              "      display: none;\n",
              "      fill: #1967D2;\n",
              "      height: 32px;\n",
              "      padding: 0 0 0 0;\n",
              "      width: 32px;\n",
              "    }\n",
              "\n",
              "    .colab-df-convert:hover {\n",
              "      background-color: #E2EBFA;\n",
              "      box-shadow: 0px 1px 2px rgba(60, 64, 67, 0.3), 0px 1px 3px 1px rgba(60, 64, 67, 0.15);\n",
              "      fill: #174EA6;\n",
              "    }\n",
              "\n",
              "    [theme=dark] .colab-df-convert {\n",
              "      background-color: #3B4455;\n",
              "      fill: #D2E3FC;\n",
              "    }\n",
              "\n",
              "    [theme=dark] .colab-df-convert:hover {\n",
              "      background-color: #434B5C;\n",
              "      box-shadow: 0px 1px 3px 1px rgba(0, 0, 0, 0.15);\n",
              "      filter: drop-shadow(0px 1px 2px rgba(0, 0, 0, 0.3));\n",
              "      fill: #FFFFFF;\n",
              "    }\n",
              "  </style>\n",
              "\n",
              "      <script>\n",
              "        const buttonEl =\n",
              "          document.querySelector('#df-06946083-7d45-4cda-a69c-22fc4c8c42e3 button.colab-df-convert');\n",
              "        buttonEl.style.display =\n",
              "          google.colab.kernel.accessAllowed ? 'block' : 'none';\n",
              "\n",
              "        async function convertToInteractive(key) {\n",
              "          const element = document.querySelector('#df-06946083-7d45-4cda-a69c-22fc4c8c42e3');\n",
              "          const dataTable =\n",
              "            await google.colab.kernel.invokeFunction('convertToInteractive',\n",
              "                                                     [key], {});\n",
              "          if (!dataTable) return;\n",
              "\n",
              "          const docLinkHtml = 'Like what you see? Visit the ' +\n",
              "            '<a target=\"_blank\" href=https://colab.research.google.com/notebooks/data_table.ipynb>data table notebook</a>'\n",
              "            + ' to learn more about interactive tables.';\n",
              "          element.innerHTML = '';\n",
              "          dataTable['output_type'] = 'display_data';\n",
              "          await google.colab.output.renderOutput(dataTable, element);\n",
              "          const docLink = document.createElement('div');\n",
              "          docLink.innerHTML = docLinkHtml;\n",
              "          element.appendChild(docLink);\n",
              "        }\n",
              "      </script>\n",
              "    </div>\n",
              "  </div>\n",
              "  "
            ]
          },
          "metadata": {},
          "execution_count": 72
        },
        {
          "output_type": "display_data",
          "data": {
            "text/plain": [
              "<Figure size 432x288 with 1 Axes>"
            ],
            "image/png": "[encoded data removed]"
          },
          "metadata": {
            "needs_background": "light"
          }
        }
      ]
    },
    {
      "cell_type": "markdown",
      "source": [
        "*   Dari visualisasi diatas maka dapat kita simpulkan bahwa nilai korelasi 0.06 menunjukan tidak adanya korelasi yang signifikan antara Anak dan Tagihan \n",
        "*   Nilai korelasi yang mendekati 0 juga menunjukan tidak adanya hubungan searah antara Anak dan Tagihan "
      ],
      "metadata": {
        "id": "uT5fUx_B96Vi"
      }
    },
    {
      "cell_type": "markdown",
      "source": [
        "# Pengujian Hipotesis"
      ],
      "metadata": {
        "id": "MJgAosLQ-OSM"
      }
    },
    {
      "cell_type": "code",
      "source": [
        "#menghitung error yang akan dihasilkan untuk setiap ukuran sampel\n",
        "#inisialisasi list kosong terlebih dahulu\n",
        "error = []\n",
        "for i in range(1,len(data)):\n",
        "    #menghitung mean populasi\n",
        "    mean_populasi = data.charges.mean()\n",
        "    #menghitung mean sample dengan jumlah sampel 1 hingga jumlah sampel=jumlah populasi \n",
        "    mean_sampel = data.charges.sample(n=i).mean()\n",
        "    #menghitung error dari mean sample\n",
        "    rel_error = 100* abs(mean_populasi-mean_sampel)/mean_populasi\n",
        "    error.append(rel_error)"
      ],
      "metadata": {
        "id": "ThE56ASUHN_C"
      },
      "execution_count": 30,
      "outputs": []
    },
    {
      "cell_type": "code",
      "source": [
        "# list of int\n",
        "ukuran_sampel = list(range(1,1700))\n",
        "\n",
        "# Calling DataFrame constructor after zipping\n",
        "# both lists, with columns specified\n",
        "errors = pd.DataFrame(list(zip(ukuran_sampel, error)),\n",
        "               columns =['sample_size', 'relative_error'])\n",
        "#menampilkan tabel errorrs\n",
        "errors"
      ],
      "metadata": {
        "colab": {
          "base_uri": "https://localhost:8080/",
          "height": 424
        },
        "id": "brTYM6ZUHPV2",
        "outputId": "6787d795-8553-4e7e-f562-024b534c5c0a"
      },
      "execution_count": 31,
      "outputs": [
        {
          "output_type": "execute_result",
          "data": {
            "text/plain": [
              "      sample_size  relative_error\n",
              "0               1       25.525150\n",
              "1               2        6.966799\n",
              "2               3       28.952679\n",
              "3               4       11.750787\n",
              "4               5       64.373927\n",
              "...           ...             ...\n",
              "1332         1333        0.170146\n",
              "1333         1334        0.105198\n",
              "1334         1335        0.087361\n",
              "1335         1336        0.009132\n",
              "1336         1337        0.006787\n",
              "\n",
              "[1337 rows x 2 columns]"
            ],
            "text/html": [
              "\n",
              "  <div id=\"df-d4d23dee-27ac-412d-b31f-ddaa31ab8535\">\n",
              "    <div class=\"colab-df-container\">\n",
              "      <div>\n",
              "<style scoped>\n",
              "    .dataframe tbody tr th:only-of-type {\n",
              "        vertical-align: middle;\n",
              "    }\n",
              "\n",
              "    .dataframe tbody tr th {\n",
              "        vertical-align: top;\n",
              "    }\n",
              "\n",
              "    .dataframe thead th {\n",
              "        text-align: right;\n",
              "    }\n",
              "</style>\n",
              "<table border=\"1\" class=\"dataframe\">\n",
              "  <thead>\n",
              "    <tr style=\"text-align: right;\">\n",
              "      <th></th>\n",
              "      <th>sample_size</th>\n",
              "      <th>relative_error</th>\n",
              "    </tr>\n",
              "  </thead>\n",
              "  <tbody>\n",
              "    <tr>\n",
              "      <th>0</th>\n",
              "      <td>1</td>\n",
              "      <td>25.525150</td>\n",
              "    </tr>\n",
              "    <tr>\n",
              "      <th>1</th>\n",
              "      <td>2</td>\n",
              "      <td>6.966799</td>\n",
              "    </tr>\n",
              "    <tr>\n",
              "      <th>2</th>\n",
              "      <td>3</td>\n",
              "      <td>28.952679</td>\n",
              "    </tr>\n",
              "    <tr>\n",
              "      <th>3</th>\n",
              "      <td>4</td>\n",
              "      <td>11.750787</td>\n",
              "    </tr>\n",
              "    <tr>\n",
              "      <th>4</th>\n",
              "      <td>5</td>\n",
              "      <td>64.373927</td>\n",
              "    </tr>\n",
              "    <tr>\n",
              "      <th>...</th>\n",
              "      <td>...</td>\n",
              "      <td>...</td>\n",
              "    </tr>\n",
              "    <tr>\n",
              "      <th>1332</th>\n",
              "      <td>1333</td>\n",
              "      <td>0.170146</td>\n",
              "    </tr>\n",
              "    <tr>\n",
              "      <th>1333</th>\n",
              "      <td>1334</td>\n",
              "      <td>0.105198</td>\n",
              "    </tr>\n",
              "    <tr>\n",
              "      <th>1334</th>\n",
              "      <td>1335</td>\n",
              "      <td>0.087361</td>\n",
              "    </tr>\n",
              "    <tr>\n",
              "      <th>1335</th>\n",
              "      <td>1336</td>\n",
              "      <td>0.009132</td>\n",
              "    </tr>\n",
              "    <tr>\n",
              "      <th>1336</th>\n",
              "      <td>1337</td>\n",
              "      <td>0.006787</td>\n",
              "    </tr>\n",
              "  </tbody>\n",
              "</table>\n",
              "<p>1337 rows × 2 columns</p>\n",
              "</div>\n",
              "      <button class=\"colab-df-convert\" onclick=\"convertToInteractive('df-d4d23dee-27ac-412d-b31f-ddaa31ab8535')\"\n",
              "              title=\"Convert this dataframe to an interactive table.\"\n",
              "              style=\"display:none;\">\n",
              "        \n",
              "  <svg xmlns=\"http://www.w3.org/2000/svg\" height=\"24px\"viewBox=\"0 0 24 24\"\n",
              "       width=\"24px\">\n",
              "    <path d=\"M0 0h24v24H0V0z\" fill=\"none\"/>\n",
              "    <path d=\"M18.56 5.44l.94 2.06.94-2.06 2.06-.94-2.06-.94-.94-2.06-.94 2.06-2.06.94zm-11 1L8.5 8.5l.94-2.06 2.06-.94-2.06-.94L8.5 2.5l-.94 2.06-2.06.94zm10 10l.94 2.06.94-2.06 2.06-.94-2.06-.94-.94-2.06-.94 2.06-2.06.94z\"/><path d=\"M17.41 7.96l-1.37-1.37c-.4-.4-.92-.59-1.43-.59-.52 0-1.04.2-1.43.59L10.3 9.45l-7.72 7.72c-.78.78-.78 2.05 0 2.83L4 21.41c.39.39.9.59 1.41.59.51 0 1.02-.2 1.41-.59l7.78-7.78 2.81-2.81c.8-.78.8-2.07 0-2.86zM5.41 20L4 18.59l7.72-7.72 1.47 1.35L5.41 20z\"/>\n",
              "  </svg>\n",
              "      </button>\n",
              "      \n",
              "  <style>\n",
              "    .colab-df-container {\n",
              "      display:flex;\n",
              "      flex-wrap:wrap;\n",
              "      gap: 12px;\n",
              "    }\n",
              "\n",
              "    .colab-df-convert {\n",
              "      background-color: #E8F0FE;\n",
              "      border: none;\n",
              "      border-radius: 50%;\n",
              "      cursor: pointer;\n",
              "      display: none;\n",
              "      fill: #1967D2;\n",
              "      height: 32px;\n",
              "      padding: 0 0 0 0;\n",
              "      width: 32px;\n",
              "    }\n",
              "\n",
              "    .colab-df-convert:hover {\n",
              "      background-color: #E2EBFA;\n",
              "      box-shadow: 0px 1px 2px rgba(60, 64, 67, 0.3), 0px 1px 3px 1px rgba(60, 64, 67, 0.15);\n",
              "      fill: #174EA6;\n",
              "    }\n",
              "\n",
              "    [theme=dark] .colab-df-convert {\n",
              "      background-color: #3B4455;\n",
              "      fill: #D2E3FC;\n",
              "    }\n",
              "\n",
              "    [theme=dark] .colab-df-convert:hover {\n",
              "      background-color: #434B5C;\n",
              "      box-shadow: 0px 1px 3px 1px rgba(0, 0, 0, 0.15);\n",
              "      filter: drop-shadow(0px 1px 2px rgba(0, 0, 0, 0.3));\n",
              "      fill: #FFFFFF;\n",
              "    }\n",
              "  </style>\n",
              "\n",
              "      <script>\n",
              "        const buttonEl =\n",
              "          document.querySelector('#df-d4d23dee-27ac-412d-b31f-ddaa31ab8535 button.colab-df-convert');\n",
              "        buttonEl.style.display =\n",
              "          google.colab.kernel.accessAllowed ? 'block' : 'none';\n",
              "\n",
              "        async function convertToInteractive(key) {\n",
              "          const element = document.querySelector('#df-d4d23dee-27ac-412d-b31f-ddaa31ab8535');\n",
              "          const dataTable =\n",
              "            await google.colab.kernel.invokeFunction('convertToInteractive',\n",
              "                                                     [key], {});\n",
              "          if (!dataTable) return;\n",
              "\n",
              "          const docLinkHtml = 'Like what you see? Visit the ' +\n",
              "            '<a target=\"_blank\" href=https://colab.research.google.com/notebooks/data_table.ipynb>data table notebook</a>'\n",
              "            + ' to learn more about interactive tables.';\n",
              "          element.innerHTML = '';\n",
              "          dataTable['output_type'] = 'display_data';\n",
              "          await google.colab.output.renderOutput(dataTable, element);\n",
              "          const docLink = document.createElement('div');\n",
              "          docLink.innerHTML = docLinkHtml;\n",
              "          element.appendChild(docLink);\n",
              "        }\n",
              "      </script>\n",
              "    </div>\n",
              "  </div>\n",
              "  "
            ]
          },
          "metadata": {},
          "execution_count": 31
        }
      ]
    },
    {
      "cell_type": "code",
      "source": [
        "#Mencoba untuk menvisualisasikan hubungan antara relative error vs ukuran sampel\n",
        "errors.plot(x='sample_size',y='relative_error',kind='line')\n",
        "plt.show()"
      ],
      "metadata": {
        "colab": {
          "base_uri": "https://localhost:8080/",
          "height": 280
        },
        "id": "HjO4-YP5HhPP",
        "outputId": "a43ce5c6-a7bc-4ec8-8b2b-39f6c96dfa86"
      },
      "execution_count": 32,
      "outputs": [
        {
          "output_type": "display_data",
          "data": {
            "text/plain": [
              "<Figure size 432x288 with 1 Axes>"
            ],
            "image/png": "[encoded data removed]"
          },
          "metadata": {
            "needs_background": "light"
          }
        }
      ]
    },
    {
      "cell_type": "markdown",
      "source": [
        "## Kasus 1: Tagihan kesehatan perokok lebih tinggi daripada tagihan kesehatan non perokok"
      ],
      "metadata": {
        "id": "hRckt5VqFzM2"
      }
    },
    {
      "cell_type": "code",
      "source": [
        "# Mengambil sampel dari populasi perokok dan non perokok sebanyak 30 sampel\n",
        "s_data1 = data.charges[data['smoker']=='yes'].sample(n=30,random_state=123) \n",
        "s_data2 = data.charges[data['smoker']=='no'].sample(n=30,random_state=123)\n",
        "\n",
        "print('Jumlah sampel perokok',s_data1.count()) \n",
        "print('Jumlah sampel non perokok',s_data2.count())"
      ],
      "metadata": {
        "colab": {
          "base_uri": "https://localhost:8080/"
        },
        "id": "an-2KZd2NMgE",
        "outputId": "7c2b5291-7b26-4fd8-860e-010579157350"
      },
      "execution_count": 33,
      "outputs": [
        {
          "output_type": "stream",
          "name": "stdout",
          "text": [
            "Jumlah sampel perokok 30\n",
            "Jumlah sampel non perokok 30\n"
          ]
        }
      ]
    },
    {
      "cell_type": "markdown",
      "source": [
        "### 1. Hipothesis dan Significance Level\n",
        "$$H_0: \\mu_1 ≤ \\mu_2$$\n",
        "$$H_1: \\mu_1 > \\mu_2$$"
      ],
      "metadata": {
        "id": "-RK4QmsoIYc3"
      }
    },
    {
      "cell_type": "code",
      "source": [
        "# Nilai Significance Level\n",
        "alpha = 0.05"
      ],
      "metadata": {
        "id": "Jdufu2dJnnNz"
      },
      "execution_count": 34,
      "outputs": []
    },
    {
      "cell_type": "markdown",
      "source": [
        "### 2. Tentukan Statistik Uji\n",
        "Statistik yang diuji terkait rata rata, namun karena kita tidak mengetahui standar deviasi populasi dari sampel yang kecil, maka kita akan gunakan t-test pada 2 sampel, karena kita punya sampel perokok dan sampel non perokok yang diujikan"
      ],
      "metadata": {
        "id": "kEADAiKYLAOs"
      }
    },
    {
      "cell_type": "markdown",
      "source": [
        "### 3. Aturan Keputusan\n"
      ],
      "metadata": {
        "id": "-EMB7-nLoLSU"
      }
    },
    {
      "cell_type": "code",
      "source": [
        "# Nilai Critical Value berdasarkan critical t dari t-table dengan nilai alpha 0.05 dan degree of freedom 29 (df = n-1)\n",
        "t_crit = -t.ppf(alpha,df=29)\n",
        "print('Critical Value:%.2f'%(t_crit))"
      ],
      "metadata": {
        "colab": {
          "base_uri": "https://localhost:8080/"
        },
        "id": "HnapOKMIPK4A",
        "outputId": "90462d41-888b-4842-af6e-6bea39a4ecd2"
      },
      "execution_count": 35,
      "outputs": [
        {
          "output_type": "stream",
          "name": "stdout",
          "text": [
            "Critical Value:1.70\n"
          ]
        }
      ]
    },
    {
      "cell_type": "markdown",
      "source": [
        "* Daerah Penolakan ada di sebelah kanan, dengan nilai kritis 1.70 \n",
        "* Ada 2 cara pengambilan keputusan\n",
        "  * jika kita mendapatkan nilai p-value kurang dari alpha, maka kita tolak $H_0$\n",
        "  * jika kita mendapatkan statistik uji lebih dari nilai kritis 1.70, maka kita tolak $H_0$"
      ],
      "metadata": {
        "id": "1r2hVyowPKa0"
      }
    },
    {
      "cell_type": "markdown",
      "source": [
        "### 4. Hitung Statistik Uji"
      ],
      "metadata": {
        "id": "3jB-XnaTocSa"
      }
    },
    {
      "cell_type": "code",
      "source": [
        "stat, p = ttest_ind(a = s_data1, b = s_data2, equal_var=False, alternative='greater') # eaual_var= False karena varians kedua populasi berbeda\n",
        "\n",
        "# Interpretasi Hasil\n",
        "print('Statistics = %.4f, p-value = %.13f' % (stat, p)) "
      ],
      "metadata": {
        "colab": {
          "base_uri": "https://localhost:8080/"
        },
        "id": "7U7Ln2hbobnj",
        "outputId": "f7e1d3d9-fc1f-446e-e570-3b8c23a0d2af"
      },
      "execution_count": 36,
      "outputs": [
        {
          "output_type": "stream",
          "name": "stdout",
          "text": [
            "Statistics = 9.1843, p-value = 0.0000000000075\n"
          ]
        }
      ]
    },
    {
      "cell_type": "markdown",
      "source": [
        "### 5. Pengambilan Keputusan"
      ],
      "metadata": {
        "id": "_qJOilAGQD5-"
      }
    },
    {
      "cell_type": "code",
      "source": [
        "# Pengambilan Keputusan\n",
        "if p > alpha:\n",
        "    print('Two group means are equal (Gagal tolak H0)') \n",
        "else:\n",
        "    print('Two group means are different (Tolak H0)')"
      ],
      "metadata": {
        "id": "p8o0_oJj38-H",
        "colab": {
          "base_uri": "https://localhost:8080/"
        },
        "outputId": "7e087cfe-5640-4db9-fada-5c6a878883b3"
      },
      "execution_count": 37,
      "outputs": [
        {
          "output_type": "stream",
          "name": "stdout",
          "text": [
            "Two group means are different (Tolak H0)\n"
          ]
        }
      ]
    },
    {
      "cell_type": "markdown",
      "source": [
        "Maka dapat kita simpulkan bahwa Tagihan Perokok lebih besar dari Tagihan Non Perokok. Dari pengujian hipotesis diatas, kita mengambil kesimpulan bahwa Tagihan Perokok diatas rata rata Tagihan Non Perokok. "
      ],
      "metadata": {
        "id": "O7MKJH96rZP4"
      }
    },
    {
      "cell_type": "markdown",
      "source": [
        "## Kasus 2: Tagihan kesehatan dengan BMI diatas 25 lebih tinggi daripada tagihan kesehatan dengan BMI dibawah 25"
      ],
      "metadata": {
        "id": "8DdC_vW3GcaZ"
      }
    },
    {
      "cell_type": "code",
      "source": [
        "# Mengambil sampel dari populasi BMI diatas 25 dan BMI dibawah 25 sebanyak 30 sampel\n",
        "s_bmi1 = data.charges[data['bmi']>25].sample(n=30,random_state=123) \n",
        "s_bmi2 = data.charges[data['bmi']<25].sample(n=30,random_state=123)\n",
        "\n",
        "print('Jumlah sampel bmi diatas 25:',s_bmi1.count()) \n",
        "print('Jumlah sampel bmi dibawah 25:',s_bmi2.count())"
      ],
      "metadata": {
        "id": "HNHfsjSunO21",
        "colab": {
          "base_uri": "https://localhost:8080/"
        },
        "outputId": "5c0d7928-e1f0-4209-b9d0-7a9591c2e356"
      },
      "execution_count": 38,
      "outputs": [
        {
          "output_type": "stream",
          "name": "stdout",
          "text": [
            "Jumlah sampel bmi diatas 25: 30\n",
            "Jumlah sampel bmi dibawah 25: 30\n"
          ]
        }
      ]
    },
    {
      "cell_type": "markdown",
      "source": [
        "### 1. Hipothesis dan Significance Level\n",
        "$$H_0: \\mu_1 ≤ \\mu_2$$\n",
        "$$H_1: \\mu_1 > \\mu_2$$"
      ],
      "metadata": {
        "id": "PH2oz53hNUqR"
      }
    },
    {
      "cell_type": "code",
      "source": [
        "alpha = 0.05"
      ],
      "metadata": {
        "id": "m32A--4bNitJ"
      },
      "execution_count": 39,
      "outputs": []
    },
    {
      "cell_type": "markdown",
      "source": [
        "### 2. Aturan Keputusan"
      ],
      "metadata": {
        "id": "7bFLAAYYXP9v"
      }
    },
    {
      "cell_type": "code",
      "source": [
        "# Nilai Critical Value berdasarkan critical t dari t-table dengan nilai alpha 0.05 dan degree of freedom 29 (df = n-1)\n",
        "t_crit = -t.ppf(alpha,df=29)\n",
        "print('Critical Value:%.2f'%(t_crit))"
      ],
      "metadata": {
        "colab": {
          "base_uri": "https://localhost:8080/"
        },
        "id": "8ilexXibXcEG",
        "outputId": "b5fe8bc2-1b1b-4b66-e786-d8d8d9e1ad76"
      },
      "execution_count": 40,
      "outputs": [
        {
          "output_type": "stream",
          "name": "stdout",
          "text": [
            "Critical Value:1.70\n"
          ]
        }
      ]
    },
    {
      "cell_type": "markdown",
      "source": [
        "### 3. Hitung Uji Hipothesis"
      ],
      "metadata": {
        "id": "A-mooz0ANhsd"
      }
    },
    {
      "cell_type": "code",
      "source": [
        "stat, p = ttest_ind(a = s_bmi1, b = s_bmi2, equal_var=False, alternative='greater') # eaual_var= False karena varians kedua populasi berbeda\n",
        "\n",
        "# Interpretasi Hasil\n",
        "print('Statistics = %.4f, p-value = %.4f' % (stat, p)) "
      ],
      "metadata": {
        "colab": {
          "base_uri": "https://localhost:8080/"
        },
        "id": "xsXyZh_QNEOD",
        "outputId": "bba6cb18-fac3-4c80-fcb6-e4cf912df55f"
      },
      "execution_count": 41,
      "outputs": [
        {
          "output_type": "stream",
          "name": "stdout",
          "text": [
            "Statistics = 1.1712, p-value = 0.1234\n"
          ]
        }
      ]
    },
    {
      "cell_type": "markdown",
      "source": [
        "### 4. Pengambilan Keputusan"
      ],
      "metadata": {
        "id": "2GTXEIEEXmEr"
      }
    },
    {
      "cell_type": "code",
      "source": [
        "# Pengambilan Keputusan\n",
        "if p > alpha:\n",
        "    print('Two group means are equal (Gagal tolak H0)') \n",
        "else:\n",
        "    print('Two group means are different (Tolak H0)')"
      ],
      "metadata": {
        "colab": {
          "base_uri": "https://localhost:8080/"
        },
        "id": "tzeFhES6NunT",
        "outputId": "3815e190-91ce-4ac9-87d3-8ac9dc9030a0"
      },
      "execution_count": 42,
      "outputs": [
        {
          "output_type": "stream",
          "name": "stdout",
          "text": [
            "Two group means are equal (Gagal tolak H0)\n"
          ]
        }
      ]
    },
    {
      "cell_type": "markdown",
      "source": [
        "Maka dapat kita simpulkan bahwa Tagihan Kesehatan BMI diatas 25 lebih kecil dari Tagihan Kesehatan BMI dibawah 25. Dari pengujian hipotesis diatas, kita mengambil kesimpulan bahwa Tagihan Kesehatan BMI yang lebih dari 25 berada dibawah rata rata Tagihan Kesehatan BMI yang kurang dari 25. "
      ],
      "metadata": {
        "id": "ODqmZt7lXxkM"
      }
    },
    {
      "cell_type": "markdown",
      "source": [
        "## Kasus 3: BMI Laki-Laki dan Perempuan Sama"
      ],
      "metadata": {
        "id": "VXpSGkQaYD3Z"
      }
    },
    {
      "cell_type": "markdown",
      "source": [
        "### Hipothesis\n",
        "$$ H_0: 𝝁_0 = 𝝁_1$$\n",
        "$$ H_0: 𝝁_0 \\not= 𝝁_1$$\n"
      ],
      "metadata": {
        "id": "61Z-A8obYatp"
      }
    },
    {
      "cell_type": "code",
      "source": [
        "# Data\n",
        "s_lk = data.bmi[data['sex']=='male'].sample(n=30,random_state=123)\n",
        "s_pr = data.bmi[data['sex']=='female'].sample(n=30,random_state=123)\n",
        "print('Jumlah sampel bmi laki-laki:',s_lk.count()) \n",
        "print('Jumlah sampel bmi perempuan:',s_pr.count())\n",
        "\n",
        "# Significance level\n",
        "alpha = 0.05\n",
        "\n",
        "# Aturan keputusan\n",
        "t_crit = -t.ppf(alpha/2,df=29)\n",
        "print('\\nCritical Value:%.2f'%(t_crit))\n",
        "\n",
        "# Hitung uji hipothesis\n",
        "stat, p = ttest_ind(a = s_lk, b = s_pr, equal_var=False, alternative='two-sided') # eaual_var= False karena varians kedua populasi berbeda\n",
        "print('Statistics = %.4f, p-value = %.4f' % (stat, p)) \n",
        "\n",
        "# Pengambilan Keputusan\n",
        "if p > alpha:\n",
        "    print('Two group means are equal (Gagal tolak H0)') \n",
        "else:\n",
        "    print('Two group means are different (Tolak H0)')"
      ],
      "metadata": {
        "colab": {
          "base_uri": "https://localhost:8080/"
        },
        "id": "o6140iRPXtDC",
        "outputId": "c6f96e75-26e8-489c-a469-43c5d847d19e"
      },
      "execution_count": 43,
      "outputs": [
        {
          "output_type": "stream",
          "name": "stdout",
          "text": [
            "Jumlah sampel bmi laki-laki: 30\n",
            "Jumlah sampel bmi perempuan: 30\n",
            "\n",
            "Critical Value:2.05\n",
            "Statistics = -0.5570, p-value = 0.5797\n",
            "Two group means are equal (Gagal tolak H0)\n"
          ]
        }
      ]
    },
    {
      "cell_type": "markdown",
      "source": [
        "### Kesimpulan"
      ],
      "metadata": {
        "id": "cAjAg4cAbcVR"
      }
    },
    {
      "cell_type": "markdown",
      "source": [
        "Maka dapat kita simpulkan bahwa BMI Laki-Laki sama besar dengan BMI Perempuan. Dari pengujian hipotesis diatas, kita mengambil kesimpulan bahwa rata-rata BMI Laki-Laki sama dengan BMI Perempuan."
      ],
      "metadata": {
        "id": "GkYpvl7hbgP8"
      }
    },
    {
      "cell_type": "markdown",
      "source": [
        "## Kasus 4: Tagihan kesehatan laki-laki lebih besar dari perempuan"
      ],
      "metadata": {
        "id": "5cM8f-jucB95"
      }
    },
    {
      "cell_type": "markdown",
      "source": [
        "### Hipothesis \n",
        "$$H_0: \\mu_1 ≤ \\mu_2$$\n",
        "$$H_1: \\mu_1 > \\mu_2$$"
      ],
      "metadata": {
        "id": "u9d4HbXMcQ3H"
      }
    },
    {
      "cell_type": "code",
      "source": [
        "# Data\n",
        "s_clk = data.charges[data['sex']=='male'].sample(n=30,random_state=123)\n",
        "s_cpr = data.charges[data['sex']=='female'].sample(n=30,random_state=123)\n",
        "print('Jumlah sampel bmi laki-laki:',s_clk.count()) \n",
        "print('Jumlah sampel bmi perempuan:',s_cpr.count())\n",
        "\n",
        "# Significance level\n",
        "alpha = 0.05\n",
        "\n",
        "# Aturan keputusan\n",
        "t_crit = -t.ppf(alpha,df=29)\n",
        "print('\\nCritical Value:%.2f'%(t_crit))\n",
        "\n",
        "# Hitung uji hipothesis\n",
        "stat, p = ttest_ind(a = s_clk, b = s_cpr, equal_var=False, alternative='greater') # eaual_var= False karena varians kedua populasi berbeda\n",
        "print('Statistics = %.4f, p-value = %.4f' % (stat, p)) \n",
        "\n",
        "# Pengambilan Keputusan\n",
        "if p > alpha:\n",
        "    print('Two group means are equal (Gagal tolak H0)') \n",
        "else:\n",
        "    print('Two group means are different (Tolak H0)')"
      ],
      "metadata": {
        "colab": {
          "base_uri": "https://localhost:8080/"
        },
        "id": "3i0pg34xY1hC",
        "outputId": "2e7f6b5a-b58d-427c-faaa-64828060b20d"
      },
      "execution_count": 44,
      "outputs": [
        {
          "output_type": "stream",
          "name": "stdout",
          "text": [
            "Jumlah sampel bmi laki-laki: 30\n",
            "Jumlah sampel bmi perempuan: 30\n",
            "\n",
            "Critical Value:1.70\n",
            "Statistics = -0.7510, p-value = 0.7721\n",
            "Two group means are equal (Gagal tolak H0)\n"
          ]
        }
      ]
    },
    {
      "cell_type": "markdown",
      "source": [
        "### Kesimpulan\n",
        "Maka dapat kita simpulkan bahwa Tagihan Kesehatan Laki-Laki lebih kecil dari Tagihan Kesehatan Perempuan. Dari pengujian hipotesis diatas, kita mengambil kesimpulan bahwa Tagihan Kesehatan Laki-Laki berada dibawah rata rata Tagihan Kesehatan Perempuan. "
      ],
      "metadata": {
        "id": "wwHDqjUue4Q0"
      }
    },
    {
      "cell_type": "markdown",
      "source": [
        "## Kasus 5: Proporsi Perokok Berbeda di Tiap Region"
      ],
      "metadata": {
        "id": "vQT59lCXfacy"
      }
    },
    {
      "cell_type": "markdown",
      "source": [
        "### Hipothesis\n",
        "$$H_0 : p_1 = p_2 = p_3 = p_4$$\n",
        "$$H_a : p_1 \\not= p_2 \\not= p_3 \\not= p_4$$"
      ],
      "metadata": {
        "id": "RLt707PBnFv_"
      }
    },
    {
      "cell_type": "markdown",
      "source": [
        "### Statistik Uji"
      ],
      "metadata": {
        "id": "dm_shcdsnjHE"
      }
    },
    {
      "cell_type": "code",
      "source": [
        "# Total data per wilayah\n",
        "r_sw = data.region[data['region']=='southwest'].count()\n",
        "r_se = data.region[data['region']=='southeast'].count()\n",
        "r_nw = data.region[data['region']=='northwest'].count()\n",
        "r_ne = data.region[data['region']=='northeast'].count()\n",
        "\n",
        "# Data perokok\n",
        "smoker = data[data['smoker']=='yes']\n",
        "\n",
        "# Data perokok per wilayah\n",
        "s_sw = smoker.region[smoker['region']=='southwest'].count()\n",
        "s_se = smoker.region[smoker['region']=='southeast'].count()\n",
        "s_nw = smoker.region[smoker['region']=='northwest'].count()\n",
        "s_ne = smoker.region[smoker['region']=='northeast'].count()\n",
        "\n",
        "# Pembagian proporsi\n",
        "sampel_swse = [s_sw,s_se]\n",
        "total_swse = [r_sw,r_se] \n",
        "sampel_swnw = [s_sw,s_nw]\n",
        "total_swnw = [r_sw,r_nw]\n",
        "sampel_swne = [s_sw,s_ne]\n",
        "total_swne = [r_sw,r_ne]"
      ],
      "metadata": {
        "id": "r_rMiEKHiUhM"
      },
      "execution_count": 45,
      "outputs": []
    },
    {
      "cell_type": "markdown",
      "source": [
        "### Uji Statistik "
      ],
      "metadata": {
        "id": "MEvlboepq0Ur"
      }
    },
    {
      "cell_type": "code",
      "source": [
        "# Buat fungsi untuk menghitung uji statistik dan p_value\n",
        "def uji_statistik(x,y):\n",
        "  (test_stat, p_value) = proportions_ztest(x, y,alternative='two-sided')\n",
        "  print(\"The computed Z test statistic: \",test_stat)\n",
        "  print(\"The p-value: \", p_value)\n",
        "\n",
        "  # Nilai Critical Value berdasarkan critical Z-value dari Z-table dengan nilai alpha 0.05\n",
        "  z_crit=norm.ppf(1-0.05/2)\n",
        "  print('Critical Value:',z_crit)\n",
        "\n",
        "  # Menentukan aturan keputusan\n",
        "  if p_value<0.05:\n",
        "    print(\"Tolak null hypothesis\")\n",
        "  else:\n",
        "    print(\"Gagal tolak null hypothesis\")"
      ],
      "metadata": {
        "id": "9NoAFx9NkLQt"
      },
      "execution_count": 46,
      "outputs": []
    },
    {
      "cell_type": "code",
      "source": [
        "# Uji Southwest dan Southeast\n",
        "print('Uji Southwest dan Southeast')\n",
        "uji_statistik(sampel_swse,total_swse)\n",
        "\n",
        "# Uji Southwest dan Northwest\n",
        "print('\\nUji Southwest dan Northwest')\n",
        "uji_statistik(sampel_swnw,total_swnw)\n",
        "\n",
        "# Uji Southwest dan Northeast\n",
        "print('\\nUji Southwest dan Northeast')\n",
        "uji_statistik(sampel_swne,total_swne)"
      ],
      "metadata": {
        "colab": {
          "base_uri": "https://localhost:8080/"
        },
        "id": "gpgDsr8rsCjQ",
        "outputId": "a009930f-d00a-4cc9-9160-1d6bdf8ae15f"
      },
      "execution_count": 47,
      "outputs": [
        {
          "output_type": "stream",
          "name": "stdout",
          "text": [
            "Uji Southwest dan Southeast\n",
            "The computed Z test statistic:  -2.2769398888136454\n",
            "The p-value:  0.022789815463035743\n",
            "Critical Value: 1.959963984540054\n",
            "Tolak null hypothesis\n",
            "\n",
            "Uji Southwest dan Northwest\n",
            "The computed Z test statistic:  0.0\n",
            "The p-value:  1.0\n",
            "Critical Value: 1.959963984540054\n",
            "Gagal tolak null hypothesis\n",
            "\n",
            "Uji Southwest dan Northeast\n",
            "The computed Z test statistic:  -0.9150414474198534\n",
            "The p-value:  0.3601698716632562\n",
            "Critical Value: 1.959963984540054\n",
            "Gagal tolak null hypothesis\n"
          ]
        }
      ]
    },
    {
      "cell_type": "markdown",
      "source": [
        "### Kesimpulan \n",
        "Hasil aturan keputusan secara keseluruhan menyatakan bahwa kita tolak hypothesis awal namun juga menyatakan kita gagal tolak hypothesis awal. Maka dapat disimpulkan bahwa belum ada cukup bukti yang menyatakan proporsi region berbeda atau sama satu sama lainnya. \n",
        "\n",
        "Dari hasil pengujian hypothesis kita mendapatkan informasi bahwa proporsi ketiga region selain southeast memiliki proporsi yang sama. Sedangkan region southeast sendiri memiliki proporsi yang berbeda dengan region lainnya."
      ],
      "metadata": {
        "id": "6JC5tCfOq32t"
      }
    },
    {
      "cell_type": "code",
      "source": [],
      "metadata": {
        "id": "wuefg0NNvQLw"
      },
      "execution_count": 47,
      "outputs": []
    }
  ]
}